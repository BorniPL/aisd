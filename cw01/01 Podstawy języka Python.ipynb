{
 "cells": [
  {
   "cell_type": "markdown",
   "metadata": {},
   "source": [
    "# Podstawy języka Python"
   ]
  },
  {
   "cell_type": "markdown",
   "metadata": {},
   "source": [
    "## Kursy online\n",
    "**OSTRZEŻENIE:** Celem tego przedmiotu nie jest nauka języka Python - to powinienieś zrobić samodzielnie. Python jest wyłącznie narzędziem, którego będziesz używać w trakcie ćwiczeń. W sieci dostępnych jest wiele kursów online wprowadzających do Pythona. Gorąco polecam samodzielne przerobienie przynajmniej jednego z nich. \n",
    "\n",
    "- https://www.codecademy.com/learn/python (EN)\n",
    "- https://developers.google.com/edu/python/ (EN)\n",
    "- https://www.youtube.com/watch?v=cnNs8qcWg0Q&list=PL3yDCQ6GKeEyBOF0gZyBvihDv6n0GNsdm (PL)"
   ]
  },
  {
   "cell_type": "markdown",
   "metadata": {},
   "source": [
    "## Wprowadzenie\n",
    "\n",
    "*Poniższy materiał powstał na bazie tłumaczenia https://developers.google.com/edu/python/introduction*\n",
    "\n",
    "\n",
    "Python jest językiem dynamicznym i interpretowanym. Cechuje go brak deklaracji typu zmiennych, parametrów, funkcji lub metod w kodzie źródłowym. To sprawia, że kod źródłowy jest krótki i elastyczny, brak w nim kontroli typów na poziomie kompilacji kodu źródłowego. Python śledzi typy wszystkich wartości w czasie rzeczywistym i w trakcie działania programu zgłasza błędy gdy wykonanie kodu nie jest możliwe.\n",
    "\n",
    "Doskonałym sposobem sprawdzenia jak działa kod Pythona jest uruchomienie interpretera i wprowadzenie kodu Pythona bezpośrednio do niego. Chcesz szybko sprawdzić co się stanie, jeśli dodasz int do listy? Po prostu wpisz polecenia do interpretera Pythona i sam sprawdź co się stanie.\n",
    "\n",
    "- *Jeżeli korzystasz z edytora PyCharm, to uruchom interpreter z menu: `Tools -> Python Console`*\n",
    "- zalecana wersja Pythona: 3.x"
   ]
  },
  {
   "cell_type": "code",
   "execution_count": 1,
   "metadata": {
    "collapsed": false
   },
   "outputs": [
    {
     "name": "stdout",
     "output_type": "stream",
     "text": [
      "Hello World\n"
     ]
    }
   ],
   "source": [
    "# to jest komentarz\n",
    "print(\"Hello World\")"
   ]
  },
  {
   "cell_type": "code",
   "execution_count": 2,
   "metadata": {
    "collapsed": true
   },
   "outputs": [],
   "source": [
    "a = 6"
   ]
  },
  {
   "cell_type": "code",
   "execution_count": 3,
   "metadata": {
    "collapsed": false
   },
   "outputs": [
    {
     "data": {
      "text/plain": [
       "6"
      ]
     },
     "execution_count": 3,
     "metadata": {},
     "output_type": "execute_result"
    }
   ],
   "source": [
    "a"
   ]
  },
  {
   "cell_type": "code",
   "execution_count": 4,
   "metadata": {
    "collapsed": false
   },
   "outputs": [
    {
     "data": {
      "text/plain": [
       "8"
      ]
     },
     "execution_count": 4,
     "metadata": {},
     "output_type": "execute_result"
    }
   ],
   "source": [
    "a + 2"
   ]
  },
  {
   "cell_type": "code",
   "execution_count": 5,
   "metadata": {
    "collapsed": true
   },
   "outputs": [],
   "source": [
    "a = 'hej'"
   ]
  },
  {
   "cell_type": "code",
   "execution_count": 6,
   "metadata": {
    "collapsed": false
   },
   "outputs": [
    {
     "data": {
      "text/plain": [
       "3"
      ]
     },
     "execution_count": 6,
     "metadata": {},
     "output_type": "execute_result"
    }
   ],
   "source": [
    "len(a)"
   ]
  },
  {
   "cell_type": "markdown",
   "metadata": {},
   "source": [
    "Wyświetlając string możesz użyć 2 rodzajów cudzysłowów:"
   ]
  },
  {
   "cell_type": "code",
   "execution_count": 7,
   "metadata": {
    "collapsed": false
   },
   "outputs": [
    {
     "name": "stdout",
     "output_type": "stream",
     "text": [
      "książka 'Pan Tadeusz'\n",
      "książka \"Pan Tadeusz\"\n"
     ]
    }
   ],
   "source": [
    "print(\"książka 'Pan Tadeusz'\")\n",
    "print('książka \"Pan Tadeusz\"')"
   ]
  },
  {
   "cell_type": "markdown",
   "metadata": {},
   "source": [
    "W taki sposób można konkatenować stringi:"
   ]
  },
  {
   "cell_type": "code",
   "execution_count": 8,
   "metadata": {
    "collapsed": false
   },
   "outputs": [
    {
     "name": "stdout",
     "output_type": "stream",
     "text": [
      "abc\n"
     ]
    }
   ],
   "source": [
    "print(\"a\" + \"b\" + 'c')"
   ]
  },
  {
   "cell_type": "markdown",
   "metadata": {},
   "source": [
    "Teraz spróbuj konkatenacji 2 różnych typów:"
   ]
  },
  {
   "cell_type": "code",
   "execution_count": 9,
   "metadata": {
    "collapsed": false
   },
   "outputs": [
    {
     "ename": "TypeError",
     "evalue": "Can't convert 'int' object to str implicitly",
     "output_type": "error",
     "traceback": [
      "\u001b[0;31m---------------------------------------------------------------------------\u001b[0m",
      "\u001b[0;31mTypeError\u001b[0m                                 Traceback (most recent call last)",
      "\u001b[0;32m<ipython-input-9-5d77c7d81fdd>\u001b[0m in \u001b[0;36m<module>\u001b[0;34m()\u001b[0m\n\u001b[0;32m----> 1\u001b[0;31m \u001b[0mprint\u001b[0m\u001b[0;34m(\u001b[0m\u001b[0;34m'a'\u001b[0m \u001b[0;34m+\u001b[0m \u001b[0;36m10\u001b[0m\u001b[0;34m)\u001b[0m\u001b[0;34m\u001b[0m\u001b[0m\n\u001b[0m",
      "\u001b[0;31mTypeError\u001b[0m: Can't convert 'int' object to str implicitly"
     ]
    }
   ],
   "source": [
    "print('a' + 10)"
   ]
  },
  {
   "cell_type": "markdown",
   "metadata": {},
   "source": [
    "Wyjaśnij dlaczego powyższy kod nie zadziałał."
   ]
  },
  {
   "cell_type": "markdown",
   "metadata": {},
   "source": [
    "W celu wyświetlenia wartości różnych typów możesze użyć np. metody `format`"
   ]
  },
  {
   "cell_type": "code",
   "execution_count": 10,
   "metadata": {
    "collapsed": false
   },
   "outputs": [
    {
     "name": "stdout",
     "output_type": "stream",
     "text": [
      "to jest liczba 10\n",
      "10 + 10 = 20\n",
      "Pan Jan Kowalski\n"
     ]
    }
   ],
   "source": [
    "print('to jest liczba {0}'.format(10))\n",
    "print('{0} + {1} = {2}'.format(10, 10, 20))\n",
    "print('{2} {0} {1}'.format(\"Jan\", \"Kowalski\", \"Pan\"))"
   ]
  },
  {
   "cell_type": "markdown",
   "metadata": {},
   "source": [
    "Przy formatowaniu najczęściej będziesz używać zmiennych. Zmienne w Pythonie tworzy się podobnie jak w C/C++ z tą różnicą, że są one typowane dynamicznie:"
   ]
  },
  {
   "cell_type": "code",
   "execution_count": 11,
   "metadata": {
    "collapsed": false
   },
   "outputs": [
    {
     "name": "stdout",
     "output_type": "stream",
     "text": [
      "Mam na imie Adam i mam 20 lat\n",
      "Mam na imie Adam i mam 20 lat\n",
      "Adam: Mam na imie Adam i mam 20 lat\n"
     ]
    }
   ],
   "source": [
    "imie = 'Adam'\n",
    "wiek = 20\n",
    "\n",
    "print(\"Mam na imie {0} i mam {1} lat\".format(imie, wiek))\n",
    "print(\"Mam na imie {im} i mam {w} lat\".format(im=imie, w=wiek))\n",
    "print(\"{im}: Mam na imie {im} i mam {w} lat\".format(w=wiek, im=imie))"
   ]
  },
  {
   "cell_type": "markdown",
   "metadata": {},
   "source": [
    "Strini możesz formatować również przy użyciu składni analogicznej do funkcji `printf` z C/C++:"
   ]
  },
  {
   "cell_type": "code",
   "execution_count": 12,
   "metadata": {
    "collapsed": false
   },
   "outputs": [
    {
     "name": "stdout",
     "output_type": "stream",
     "text": [
      "Mam na imie Adam i mam 20 lat\n",
      "Mam 20 lat\n"
     ]
    }
   ],
   "source": [
    "print(\"Mam na imie %s i mam %d lat\" % (imie, wiek))\n",
    "print(\"Mam %d lat\" % wiek)"
   ]
  },
  {
   "cell_type": "markdown",
   "metadata": {},
   "source": [
    "Do wczytania danych możesz użyć funkcji `raw_input` (Python 2.x) lub `input` (Python 3.x):"
   ]
  },
  {
   "cell_type": "code",
   "execution_count": 13,
   "metadata": {
    "collapsed": false
   },
   "outputs": [
    {
     "name": "stdout",
     "output_type": "stream",
     "text": [
      "Jan\n",
      "Kowalski\n",
      "Witaj Jan Kowalski\n"
     ]
    }
   ],
   "source": [
    "imie = input()\n",
    "nazwisko = input()\n",
    "\n",
    "print(\"Witaj %s %s\" % (imie, nazwisko))"
   ]
  },
  {
   "cell_type": "markdown",
   "metadata": {},
   "source": [
    "## Pliki źródłowe\n",
    "Pliki źródłowe Pythona mają rozszerzenie `\".py\"` i są nazywane modułami. Poniższy kod, zapisany do pliku `hello.py` można uruchomić wpisując w konsoli polecenie `python hello.py Alice`, co spowoduje uruchomienie interpretora Pythona i wykonanie kodu w pliku `hello.py`, przekazując do programu paramater linii poleceń o wartości `Alice`.\n",
    "\n",
    "Zwróć uwagę na brak nawiasów klamrowych określających początek i koniec bloku instrukcji. W Pythonie rolę tą pełni wcięcie kodu (przy pomocy spacji lub tablulacji)."
   ]
  },
  {
   "cell_type": "code",
   "execution_count": 14,
   "metadata": {
    "collapsed": false
   },
   "outputs": [
    {
     "name": "stdout",
     "output_type": "stream",
     "text": [
      "Hello there -f\n"
     ]
    }
   ],
   "source": [
    "# import modułu o nazwie sys\n",
    "import sys\n",
    "\n",
    "# nasz kod wykonuje się w ramach funkcji main\n",
    "def main():\n",
    "    print('Hello there', sys.argv[1])\n",
    "    # Parametry linii poleceń dostępne są w sys.argv[1], sys.argv[2] ...\n",
    "    # sys.argv[0] zawiera nazwę uruchamianego skryptu\n",
    "\n",
    "# Standardowy sposób na określenie co ma się wydarzyć przy uruchomieniu skryptu\n",
    "# W tym przypadku na starcie wywołujemy funkcję main\n",
    "if __name__ == '__main__':\n",
    "    main()"
   ]
  },
  {
   "cell_type": "markdown",
   "metadata": {},
   "source": [
    "Przy importowaniu modułu (a więc pliku) `hello.py` Python wykonuje kolejno wszystkie instrukcje, od góry do dołu. Te instrukcje mogą importować inne moduły, deklarować zmienne i funkcje, itp. Moduł Pythona można uruchomić z poziomu linii poleceń (robiliśmy to wpisując `python hello.py Alice`), może on być zaimportowany przez inny moduł. Do sprawdzenia, czy plik `.py` jest uruchamiany bezpośrednio służy warunek \n",
    "```\n",
    "if __name__ == '__main__':\n",
    "```\n",
    "\n",
    "Po uruchomienu programu, mamy dostęp do listy argumentów `sys.argv` z którymi został on uruchmiony, przy czym `sys.argv[0]` zawiera nazwę programu, `sys.argv[1]` zawiera pierwszy argument, itd. Aby sprawdzić z iloma parametrami został uruchomiony program, można skorzystać z wyrażenia `len(sys.argv)`, podobnie jak to robiliśmy wcześniej. W ogólny przypadku funkcji `len` można użyć do sprawdzenia ilości znaków w stringu lub ilości elementów w liście lub krotce (innych tablico-podobnych strukturach danych), czy też ilości par klucz-wartość w strukturze słownikowej."
   ]
  },
  {
   "cell_type": "markdown",
   "metadata": {},
   "source": [
    "## Deklaracja funkcji\n",
    "Funkcje w Pythone definiuje się w następujący sposób:"
   ]
  },
  {
   "cell_type": "code",
   "execution_count": 15,
   "metadata": {
    "collapsed": true
   },
   "outputs": [],
   "source": [
    "# Definicja funkcji \"powtorz\", ktora przyjmuje 2 argumenty.\n",
    "def powtorz(s, wykrzykniki):\n",
    "    \"\"\"\n",
    "    Zwraca the string 's' powtórzony 3 razy.\n",
    "    Jezeli wykrzykniki ma wartość True, dodaje na końcu wykrzykniki.\n",
    "    \"\"\"\n",
    "\n",
    "    wynik = s + s + s # co można zapisać również jako \"s * 3\", co jest też szybsze (Dlaczego?)\n",
    "    if wykrzykniki:\n",
    "        wynik = wynik + '!!!'\n",
    "    return wynik"
   ]
  },
  {
   "cell_type": "markdown",
   "metadata": {},
   "source": [
    "Zwróc uwagę, że blok definiujący ciało funkcji ma jednorodne wcięcie. Podobnie jest z blokiem wewnątrz warunku `if`. Powtórzenie stringa można zapisać na 2 sposoby, przy użyciu operatora `+` co jest bardzie zrozumiałe, lub przy pomocy operatora powtórzeniowego `*`, co oznacza że `'-' * 10` zwróci `----------`. Operator powtórzeniowy jest szybszy ponieważ obiekt wyjściowy jest tworzony raz, a w przypadku dodawania zwracany jest najpierw wynik pośredni `s+s`, a dopiero później wynik końcowy. Zarówno `+` jak i `*` są przeciążonymi operatorami, co oznacza, że będą zachowywać się inaczej w zależności od typu danych (`5*3` zwróci `15`, `'5'*3` zwróci `'555'`).\n",
    "\n",
    "Linia zawierająca słowo kluczowe `def` określa nazwę funkcji i jej argumenty (w nawiasach). Kolejne linie zawierają tzw. `docstring` czyli dokumentację funkcji. Zmienne zadeklarowane wewnątrz funkcji są zmiennymi lokalnymi, dostępnymi tylko wewnątrz tej funkcji. Dzięki temu 2 różne funkcje mogą zawierać niezależne zmienne o tych samych nazwach. Funkcja może zwracać wynik przy użyciu słowa kluczowego `return`.\n",
    "\n",
    "Funkcję, którą zdefiniowaliśmy powyżej można wywołać w następujący sposób:"
   ]
  },
  {
   "cell_type": "code",
   "execution_count": 16,
   "metadata": {
    "collapsed": false
   },
   "outputs": [
    {
     "name": "stdout",
     "output_type": "stream",
     "text": [
      "foofoofoo\n",
      "Foo BarFoo BarFoo Bar!!!\n"
     ]
    }
   ],
   "source": [
    "print(powtorz('foo', False))\n",
    "print(powtorz('Foo Bar', True))"
   ]
  },
  {
   "cell_type": "markdown",
   "metadata": {},
   "source": [
    "Oczywiście przed wywołaniem funkcji należy ją wcześniej zadeklarować. Z tego powodu `if __name__ == '__main__':` umieszcza się na samym końcu pliku."
   ]
  },
  {
   "cell_type": "markdown",
   "metadata": {},
   "source": [
    "## Wcięcia\n",
    "\n",
    "\n",
    "Jedną z wyróżniających cech Python jest wykorzystanie wcięć do definiowania bloków kodu. Logiczny blok instrukcji, np. funkcja, powinien być poprzedzony taką samą liczbę spacji w każdej linii. Python zasygnalizuje błąd w przypadku gdy liczba spacji w bloku nie jest taka sama. Zwykle stosuje się 4 (lub 2) spacje w celu wcięcia i wyróżnienia bloku kodu. Przy stosowaniu wcięć powinno unikać się stosowania tabluacji (większość środowisk ma opcję wstawiania spacji zamiast znaku tabulacji po naciśnięciu klawisza `Tab`)."
   ]
  },
  {
   "cell_type": "markdown",
   "metadata": {},
   "source": [
    "# Sprawdzanie kodu podczas uruchamiania\n",
    "\n",
    "Python nie kompiluje kodu przy uruchomieniu programu, lecz intepretuje go w locie. Z tego powodu poniższy kod wywoła się bez błędów:"
   ]
  },
  {
   "cell_type": "code",
   "execution_count": 17,
   "metadata": {
    "collapsed": false
   },
   "outputs": [
    {
     "name": "stdout",
     "output_type": "stream",
     "text": [
      "JanJanJan\n"
     ]
    }
   ],
   "source": [
    "imie = 'Jan'\n",
    "\n",
    "if imie == 'Janusz':\n",
    "    wynik = powtorzzzzz(imie, True)\n",
    "else:\n",
    "    wynik = powtorz(imie, False)\n",
    "    \n",
    "print(wynik)"
   ]
  },
  {
   "cell_type": "markdown",
   "metadata": {},
   "source": [
    "Kod uruchomił się bez poblemów, mimo tego iż funkcja `powtorzzzzz` nie została wcześniej zdeklarowana."
   ]
  }
 ],
 "metadata": {
  "kernelspec": {
   "display_name": "Python 3",
   "language": "python",
   "name": "python3"
  },
  "language_info": {
   "codemirror_mode": {
    "name": "ipython",
    "version": 3
   },
   "file_extension": ".py",
   "mimetype": "text/x-python",
   "name": "python",
   "nbconvert_exporter": "python",
   "pygments_lexer": "ipython3",
   "version": "3.5.2"
  }
 },
 "nbformat": 4,
 "nbformat_minor": 1
}
