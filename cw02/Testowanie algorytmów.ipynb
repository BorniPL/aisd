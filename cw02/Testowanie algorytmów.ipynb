{
 "cells": [
  {
   "cell_type": "markdown",
   "metadata": {},
   "source": [
    "## Asercje\n",
    "\n",
    "W poprzednich ćwiczeniach używaliśmy z funkcji `test`, której zadaniem było wywoływanie funkcji z zadanymi argumentami wejściowymi i weryfikacja poprawności zwracanych wyników. W podobny sposób możnaby skorzytać z wbudowanej funkcji `assert`. Gdy przekażesz do funkcji `assert` wartość `False`, funkcja ta zwróci błąd (wyjątek)."
   ]
  },
  {
   "cell_type": "code",
   "execution_count": 2,
   "metadata": {
    "collapsed": false
   },
   "outputs": [
    {
     "ename": "AssertionError",
     "evalue": "",
     "output_type": "error",
     "traceback": [
      "\u001b[0;31m---------------------------------------------------------------------------\u001b[0m",
      "\u001b[0;31mAssertionError\u001b[0m                            Traceback (most recent call last)",
      "\u001b[0;32m<ipython-input-2-6e6df518a476>\u001b[0m in \u001b[0;36m<module>\u001b[0;34m()\u001b[0m\n\u001b[0;32m----> 1\u001b[0;31m \u001b[0;32massert\u001b[0m \u001b[0;32mFalse\u001b[0m\u001b[0;34m\u001b[0m\u001b[0m\n\u001b[0m",
      "\u001b[0;31mAssertionError\u001b[0m: "
     ]
    }
   ],
   "source": [
    "assert False"
   ]
  },
  {
   "cell_type": "markdown",
   "metadata": {},
   "source": [
    "Asercji możesz używać np. do testowania poprawności argumentów funkcji, np:"
   ]
  },
  {
   "cell_type": "code",
   "execution_count": 4,
   "metadata": {
    "collapsed": false
   },
   "outputs": [
    {
     "name": "stdout",
     "output_type": "stream",
     "text": [
      "3\n"
     ]
    },
    {
     "ename": "AssertionError",
     "evalue": "",
     "output_type": "error",
     "traceback": [
      "\u001b[0;31m---------------------------------------------------------------------------\u001b[0m",
      "\u001b[0;31mAssertionError\u001b[0m                            Traceback (most recent call last)",
      "\u001b[0;32m<ipython-input-4-340150b7a26a>\u001b[0m in \u001b[0;36m<module>\u001b[0;34m()\u001b[0m\n\u001b[1;32m      5\u001b[0m \u001b[0;34m\u001b[0m\u001b[0m\n\u001b[1;32m      6\u001b[0m \u001b[0mprint\u001b[0m\u001b[0;34m(\u001b[0m\u001b[0mdodaj\u001b[0m\u001b[0;34m(\u001b[0m\u001b[0;36m1\u001b[0m\u001b[0;34m,\u001b[0m\u001b[0;36m2\u001b[0m\u001b[0;34m)\u001b[0m\u001b[0;34m)\u001b[0m\u001b[0;34m\u001b[0m\u001b[0m\n\u001b[0;32m----> 7\u001b[0;31m \u001b[0mprint\u001b[0m\u001b[0;34m(\u001b[0m\u001b[0mdodaj\u001b[0m\u001b[0;34m(\u001b[0m\u001b[0;36m1\u001b[0m\u001b[0;34m,\u001b[0m\u001b[0;34m'abc'\u001b[0m\u001b[0;34m)\u001b[0m\u001b[0;34m)\u001b[0m\u001b[0;34m\u001b[0m\u001b[0m\n\u001b[0m",
      "\u001b[0;32m<ipython-input-4-340150b7a26a>\u001b[0m in \u001b[0;36mdodaj\u001b[0;34m(a, b)\u001b[0m\n\u001b[1;32m      1\u001b[0m \u001b[0;32mdef\u001b[0m \u001b[0mdodaj\u001b[0m\u001b[0;34m(\u001b[0m\u001b[0ma\u001b[0m\u001b[0;34m,\u001b[0m \u001b[0mb\u001b[0m\u001b[0;34m)\u001b[0m\u001b[0;34m:\u001b[0m\u001b[0;34m\u001b[0m\u001b[0m\n\u001b[1;32m      2\u001b[0m     \u001b[0;32massert\u001b[0m \u001b[0mtype\u001b[0m\u001b[0;34m(\u001b[0m\u001b[0ma\u001b[0m\u001b[0;34m)\u001b[0m \u001b[0;32mis\u001b[0m \u001b[0mint\u001b[0m\u001b[0;34m\u001b[0m\u001b[0m\n\u001b[0;32m----> 3\u001b[0;31m     \u001b[0;32massert\u001b[0m \u001b[0mtype\u001b[0m\u001b[0;34m(\u001b[0m\u001b[0mb\u001b[0m\u001b[0;34m)\u001b[0m \u001b[0;32mis\u001b[0m \u001b[0mint\u001b[0m\u001b[0;34m\u001b[0m\u001b[0m\n\u001b[0m\u001b[1;32m      4\u001b[0m     \u001b[0;32mreturn\u001b[0m \u001b[0ma\u001b[0m \u001b[0;34m+\u001b[0m \u001b[0mb\u001b[0m\u001b[0;34m\u001b[0m\u001b[0m\n\u001b[1;32m      5\u001b[0m \u001b[0;34m\u001b[0m\u001b[0m\n",
      "\u001b[0;31mAssertionError\u001b[0m: "
     ]
    }
   ],
   "source": [
    "def dodaj(a, b):\n",
    "    assert type(a) is int\n",
    "    assert type(b) is int\n",
    "    return a + b\n",
    "\n",
    "print(dodaj(1,2))\n",
    "print(dodaj(1,'abc'))"
   ]
  },
  {
   "cell_type": "markdown",
   "metadata": {},
   "source": [
    "Przyjrzyj się powyższej informacji. Zawiera ona dokładnie informację o miejscu wystąpienia błędu.\n",
    "\n",
    "Asercji możesz też użyć poza funkcją `dodaj` w celu przetestowania jej działania:"
   ]
  },
  {
   "cell_type": "code",
   "execution_count": 9,
   "metadata": {
    "collapsed": false
   },
   "outputs": [],
   "source": [
    "def dodaj(a, b):\n",
    "    assert type(a) is int\n",
    "    assert type(b) is int\n",
    "    return a + b\n",
    "\n",
    "\n",
    "assert dodaj(1,1) == 2\n",
    "assert dodaj(0,0) == 0"
   ]
  },
  {
   "cell_type": "markdown",
   "metadata": {},
   "source": [
    "## Testy jednostkowe\n",
    "\n",
    "Testy jednostokowe to jeden z głównych sposobów tworzenia funkcji mających spełnić specyfikację (tzw. scenariusze testowe). Przejrzyj plik `szyfr.py` zawierający implementację szyfru podstawieniowego GA-DE-RY-PO-LU-KI, oraz towarzyszący mu plik `szyfr.test.py` zawierający testy jedonstowe sprawdzające działanie funkcji `gaderypoluki`. Następnie uruchom plik z testami."
   ]
  },
  {
   "cell_type": "code",
   "execution_count": 21,
   "metadata": {
    "collapsed": false
   },
   "outputs": [
    {
     "name": "stdout",
     "output_type": "stream",
     "text": [
      "........\r\n",
      "----------------------------------------------------------------------\r\n",
      "Ran 8 tests in 0.001s\r\n",
      "\r\n",
      "OK\r\n"
     ]
    }
   ],
   "source": [
    "!python3 szyfr.test.py"
   ]
  },
  {
   "cell_type": "markdown",
   "metadata": {},
   "source": [
    "## Ćwiczenie 1\n",
    "\n",
    "Jak widać 8 testów wykonało się poprawnie. Testy są jednak kompletne. Jakie przypadki testowe dodałbyś do testów? Czy dla nowych testów funkcja działa poprawnie? \n",
    "\n",
    "*Podpowiedź*: W kodzie funkcji szyfrujące są 2 błędy - spróbuj je znaleźć tworząc odpowiednie przypadki testowe i udowodnij, że fukcja nie przechodzi nowych testów.\n",
    "\n",
    "## Ćwiczenie 2\n",
    "\n",
    "Kod funkcji szyfrującej nie jest elegancki. Zawiera długą listę warunków `if.. elif`. Uprość kod stosując pętlę `for`. Upewnij się, że po modyfikacji funkcja przechodzi wszystkie testy.\n",
    "\n",
    "*Podpowiedź*: To co własnie zrobiłeś nazywa się refaktoringiem. Pokrycie kodu testami gwarantuje nam, że w wyniku refaktoringu nie dojdzie do <a href=\"https://pl.wikipedia.org/wiki/Regresja_(informatyka)\">regresji</a>.\n",
    "\n",
    "## Ćwiczenie 3\n",
    "\n",
    "Stwórz nową funkcję szyfrującą `podstawieniowy`, umożliwiającą zastosowanie dowolnego szyfru podstawieniowego. Funkcja być również pokryta testami. Funkcja powinna przyjmować 2 argumenty: `wiadomosc` i `klucz`, gdzie klucz to lista zawierająca krotki z podstawieniami. \n",
    "\n",
    "Przykładowo: wywołanie `podstawieniowy('galop', [('g','a'),('d','e'),('r','y'),('p','o'),('l','u'),('k','i')])` powinno zwrócić `agupo`.\n",
    "\n",
    "## Ćwiczenie 4\n",
    "\n",
    "Stwórz funkcje `klucz`, która dla zadanego stringa stworzy klucz szyfru podstawieniowego. Kolejne pary znaków w stringu oddzielone są znakiem `-`. Przykładowo, dla stringa `'ab-cd'` funkcja zwraca listę `[('a','b'),('c','d')]`. Pokryj funkcję testami."
   ]
  }
 ],
 "metadata": {
  "kernelspec": {
   "display_name": "Python 3",
   "language": "python",
   "name": "python3"
  },
  "language_info": {
   "codemirror_mode": {
    "name": "ipython",
    "version": 3
   },
   "file_extension": ".py",
   "mimetype": "text/x-python",
   "name": "python",
   "nbconvert_exporter": "python",
   "pygments_lexer": "ipython3",
   "version": "3.5.2"
  }
 },
 "nbformat": 4,
 "nbformat_minor": 1
}
