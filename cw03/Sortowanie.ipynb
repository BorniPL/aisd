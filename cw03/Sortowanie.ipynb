{
 "cells": [
  {
   "cell_type": "markdown",
   "metadata": {},
   "source": [
    "# Sortowanie przez wstawianie\n",
    "\n",
    "## Wstawianie elementów\n",
    "Zaimplementuj funkcję `wstaw(tablica, element)`, której zadaniem jest wstawienie we właściwe miejsce elementu do już posortowanej tablicy, w taki sposób aby tablica była dalej posortowana. W wyniku wstawienia elementu, rozmiar tablicy zwiększy się o 1 i elementy tablicy będą posortowane. Funkcja powinna zwracać indeks na który został wstawiony element.\n",
    "\n",
    "_Przykład_: Po wykonaniu funkcji z argumentami `tablica = [10, 20, 30]`, `element = 15`, tablica powinna mieć wartość `[10, 15, 20, 30]`, a funkcja powinna zwrócić 1 (indeks elementu `15`).\n",
    "\n",
    "## Sortowanie przez wstawianie #1\n",
    "Stwórz funkcję `sortowanie1(tablica)`, która wykorzystywać będzie wcześniejszą funkcję `wstaw`. Funkcja ta powinna rozpocząć od pustej tablicy wyjściowej, i następnie wstawiać kolejno elementy z tablicy wejściowej. Na zakończenie, funkcja `sortowanie1` powinna zwrócić posortowaną tablicę wyjściową.\n",
    "\n",
    "## Sortowanie przez wstawianie #2\n",
    "Funkcję `sortowanie1` ma podstawową wadę: nie sortuje w miejscu - potrzebne są 2 tablice: wejściowa i wyjściowa, między którymi kopiowane są elementy. Brak sortowania w miejscu zwiększa zapotrzebowanie pamięciowe algorytmu, co ma istotne znacze w przypadku sortowania dużych tablic.\n",
    "\n",
    "Przy sortowaniu w miejscu bedziemy wyłącznie modyfikować elementy w tablicy wejściowej, bez używania dodatkowych tablic. Zaimplementuj funkcję `sortowanie2`, na podstawie poniższego pseudokodu. Prześledź działanie poniższego algorytmu na kartce papieru (zapisując wartości zmiennych). Zaimplementuj ten algorytm w Pythonie i zrób to samo z użyciem debuggera.\n",
    "\n",
    "```\n",
    "Insert_sort(A, n)\n",
    "   for i=2 to n :\n",
    "      klucz = A[i]\n",
    "      # Wstaw A[i] w posortowany ciąg A[1 ... i-1]\n",
    "      j = i - 1\n",
    "      while j>0 and A[j]>klucz:\n",
    "         A[j + 1] = A[j]\n",
    "         j = j - 1\n",
    "      A[j] = klucz\n",
    "```"
   ]
  },
  {
   "cell_type": "markdown",
   "metadata": {},
   "source": [
    "# Czas działania algorytmów\n",
    "\n",
    "Zmierz eksperymentalnie czas działania obydwu funkcji, używając dostarczonych przeze mnie danych. Najpierw wygeneruj dane przy pomocy poniższego kodu. Moduł `pickle` służy do serializacji danych, moduł `random` służy do generowania liczb pseudolosowych."
   ]
  },
  {
   "cell_type": "code",
   "execution_count": 5,
   "metadata": {
    "collapsed": false
   },
   "outputs": [
    {
     "name": "stdout",
     "output_type": "stream",
     "text": [
      "Wygenerowano tablice o rozmiarze 10^4\n",
      "Wygenerowano tablice o rozmiarze 10^5\n",
      "Wygenerowano tablice o rozmiarze 10^6\n",
      "Wygenerowano tablice o rozmiarze 10^7\n",
      "Gotowe!\n"
     ]
    }
   ],
   "source": [
    "import pickle\n",
    "import random\n",
    "\n",
    "# inicjalizujemy generator liczb losowych stałą wartoscią, więc wszyscy będą mieli te same dane\n",
    "random.seed(1)\n",
    "\n",
    "for exp in range(4, 8):\n",
    "    n = 10 ** exp\n",
    "    \n",
    "    # tworzy i zapisuje tablice: [0,1,2,...,n-1]\n",
    "    tablica = [i for i in range(n)]\n",
    "    pickle.dump(tablica, open(\"posortowana_%s.pickle\" % n, \"wb\"))\n",
    "    \n",
    "    # tworzy i zapisuje tablice: [n-1,...,2,1,0]\n",
    "    tablica = [n-i-1 for i in range(n)]\n",
    "    pickle.dump(tablica, open(\"odwrotnie_posortowana_%s.pickle\" % n, \"wb\"))\n",
    "    \n",
    "    # tworzy i zapisuje tablice losowa\n",
    "    tablica = [random.randint(0, n) for i in range(n)]\n",
    "    pickle.dump(tablica, open(\"losowa_%s.pickle\" % n, \"wb\"))\n",
    "    \n",
    "    print(\"Wygenerowano tablice o rozmiarze 10^%d\" % exp)\n",
    "print(\"Gotowe!\")"
   ]
  },
  {
   "cell_type": "markdown",
   "metadata": {},
   "source": [
    "# Porównanie czasu działania algorytmów\n",
    "\n",
    "Mając wygenerowane dane zmierz czas wykonania algorytmów: `sortowanie1`, `sortowanie2`, oraz wbudowanej funkcji `sort`. W tym celu zmodyfikuj poniższy przykład:"
   ]
  },
  {
   "cell_type": "code",
   "execution_count": 14,
   "metadata": {
    "collapsed": false
   },
   "outputs": [
    {
     "name": "stdout",
     "output_type": "stream",
     "text": [
      "Sortowanie posortowanej tablicy o rozmiarze 10000 zajęło 0.000s\n",
      "Sortowanie odwrotnie posortowanej tablicy o rozmiarze 10000 zajęło 0.000s\n",
      "Sortowanie losowej tablicy o rozmiarze 10000 zajęło 0.003s\n",
      "Sortowanie posortowanej tablicy o rozmiarze 100000 zajęło 0.002s\n",
      "Sortowanie odwrotnie posortowanej tablicy o rozmiarze 100000 zajęło 0.003s\n",
      "Sortowanie losowej tablicy o rozmiarze 100000 zajęło 0.042s\n",
      "Sortowanie posortowanej tablicy o rozmiarze 1000000 zajęło 0.022s\n",
      "Sortowanie odwrotnie posortowanej tablicy o rozmiarze 1000000 zajęło 0.022s\n",
      "Sortowanie losowej tablicy o rozmiarze 1000000 zajęło 0.709s\n",
      "Sortowanie posortowanej tablicy o rozmiarze 10000000 zajęło 0.183s\n",
      "Sortowanie odwrotnie posortowanej tablicy o rozmiarze 10000000 zajęło 0.212s\n",
      "Sortowanie losowej tablicy o rozmiarze 10000000 zajęło 11.244s\n"
     ]
    }
   ],
   "source": [
    "import pickle\n",
    "import time\n",
    "\n",
    "for exp in range(4, 8):\n",
    "    n = 10 ** exp\n",
    "    \n",
    "    tablica = pickle.load(open(\"posortowana_%s.pickle\" % n, \"rb\"))   \n",
    "    start = time.time()\n",
    "    tablica.sort()\n",
    "    koniec = time.time()\n",
    "    print(\"Sortowanie posortowanej tablicy o rozmiarze %d zajęło %.3fs\" % (len(tablica), koniec - start))\n",
    "    \n",
    "    tablica = pickle.load(open(\"odwrotnie_posortowana_%s.pickle\" % n, \"rb\"))\n",
    "    start = time.time()\n",
    "    tablica.sort()\n",
    "    koniec = time.time()\n",
    "    print(\"Sortowanie odwrotnie posortowanej tablicy o rozmiarze %d zajęło %.3fs\" % (len(tablica), koniec - start))    \n",
    "    \n",
    "    tablica = pickle.load(open(\"losowa_%s.pickle\" % n, \"rb\"))\n",
    "    start = time.time()\n",
    "    tablica.sort()\n",
    "    koniec = time.time()\n",
    "    print(\"Sortowanie losowej tablicy o rozmiarze %d zajęło %.3fs\" % (len(tablica), koniec - start))        "
   ]
  },
  {
   "cell_type": "markdown",
   "metadata": {},
   "source": [
    "# Inne algorytmy sortujące\n",
    "\n",
    "Zaimplementuj samodzielnie poniższe algorytmy sortujące na podstawie ich pseudokodu.\n",
    "\n",
    "## Sortowanie bąbelkowe\n",
    "\n",
    "```\n",
    "procedure bubbleSort( A : list of sortable items )\n",
    "   n = length(A)\n",
    "   repeat \n",
    "     swapped = false\n",
    "     for i = 1 to n-1 inclusive do\n",
    "       /* if this pair is out of order */\n",
    "       if A[i-1] > A[i] then\n",
    "         /* swap them and remember something changed */\n",
    "         swap( A[i-1], A[i] )\n",
    "         swapped = true\n",
    "       end if\n",
    "     end for\n",
    "   until not swapped\n",
    "end procedure\n",
    "```\n",
    "\n",
    "## Sortowanie Shell'a\n",
    "\n",
    "```\n",
    "procedure shellSort()\n",
    "   A : array of items \n",
    "   /* calculate interval*/\n",
    "   while interval < A.length /3 do:\n",
    "      interval = interval * 3 + 1\t    \n",
    "   end while\n",
    "   while interval > 0 do:\n",
    "      for outer = interval; outer < A.length; outer ++ do:\n",
    "      /* select value to be inserted */\n",
    "      valueToInsert = A[outer]\n",
    "      inner = outer;\n",
    "         /*shift element towards right*/\n",
    "         while inner > interval -1 && A[inner - interval] >= valueToInsert do:\n",
    "            A[inner] = A[inner - interval]\n",
    "            inner = inner - interval\n",
    "         end while\n",
    "      /* insert the number at hole position */\n",
    "      A[inner] = valueToInsert\n",
    "      end for\n",
    "   /* calculate interval*/\n",
    "   interval = (interval -1) /3;\t  \n",
    "   end while\n",
    "end procedure\n",
    "```\n",
    "\n",
    "Stwórz wykres przedstawiający czasy sortowania wszystkich algorytmów."
   ]
  },
  {
   "cell_type": "code",
   "execution_count": null,
   "metadata": {
    "collapsed": true
   },
   "outputs": [],
   "source": []
  }
 ],
 "metadata": {
  "kernelspec": {
   "display_name": "Python 3",
   "language": "python",
   "name": "python3"
  },
  "language_info": {
   "codemirror_mode": {
    "name": "ipython",
    "version": 3
   },
   "file_extension": ".py",
   "mimetype": "text/x-python",
   "name": "python",
   "nbconvert_exporter": "python",
   "pygments_lexer": "ipython3",
   "version": "3.5.2"
  }
 },
 "nbformat": 4,
 "nbformat_minor": 1
}
