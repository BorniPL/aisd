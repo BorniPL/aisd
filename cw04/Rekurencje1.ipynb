{
 "cells": [
  {
   "cell_type": "markdown",
   "metadata": {},
   "source": [
    "# Pudełko w pudełku w pudełku w ...\n",
    "\n",
    "Wyobraź sobie, że chcesz wyjąć przedmiot paczki, która znajduje się w kolejnej paczce, która znajduje się w kolejnej paczce...\n",
    "<img src=\"http://www.pakmaillauderdale.com/images/computer.jpg\" />\n",
    "\n",
    "Możemy zasymulować takie otwieranie paczek przy użyciu rekurencji. Każde otwarcie paczki odpowiada nowemu wywołaniu funkcji (pamiętaj, że każda nowo wywołana funkcja ma swój własny zestaw zmiennych lokalnych). Większą paczkę można zamknąć tylko wtedy, gdy zamknięta zostanie mniejsza paczka (aby zakończyć funkcję zewnętrzną, należy zakończyć funkcję wewnętrzną).\n",
    "\n",
    "Zauważ, że argument funkcji `pudelka` ma wartość domyślną: `poziom=0`. Przy wywołaniu funkcji możliwe jest pomijanie podawania wartości dla argumentów posiadających wartość domyślną, z tego powodu możliwe jest wywołanie `pudelka()` (argument `poziom` przyjmie wtedy wartość 0).\n",
    "\n",
    "Co się stanie, gdy spróbujesz otwierać pudełka w nieskończoność (gdy usuniesz warunek `if poziom < 3`)?"
   ]
  },
  {
   "cell_type": "code",
   "execution_count": 22,
   "metadata": {
    "collapsed": false
   },
   "outputs": [
    {
     "name": "stdout",
     "output_type": "stream",
     "text": [
      "Otwieram pudelko nr  1\n",
      "Otwieram pudelko nr  2\n",
      "Otwieram pudelko nr  3\n",
      "Znalazles skarb!\n",
      "Zamykam pudelko nr 3\n",
      "Zamykam pudelko nr 2\n",
      "Zamykam pudelko nr 1\n"
     ]
    }
   ],
   "source": [
    "def pudelka(poziom=1):\n",
    "    print(\"Otwieram pudelko nr \", poziom)\n",
    "    if poziom < 3:\n",
    "        pudelka(poziom+1)\n",
    "    else:\n",
    "        print(\"Znalazles skarb!\")\n",
    "    print(\"Zamykam pudelko nr\", poziom)\n",
    "    \n",
    "pudelka()"
   ]
  },
  {
   "cell_type": "markdown",
   "metadata": {},
   "source": [
    "# Kolejny przykład\n",
    "Prześledź przy użyciu debuggera działanie poniższej rekurencji:"
   ]
  },
  {
   "cell_type": "code",
   "execution_count": 20,
   "metadata": {
    "collapsed": false
   },
   "outputs": [
    {
     "name": "stdout",
     "output_type": "stream",
     "text": [
      "1000\n"
     ]
    }
   ],
   "source": [
    "def foo(x):\n",
    "    if x==0:\n",
    "        return 1\n",
    "    y = foo(x-1)*10\n",
    "    return y\n",
    "\n",
    "\n",
    "print(foo(3))"
   ]
  },
  {
   "cell_type": "markdown",
   "metadata": {},
   "source": [
    "# Rekurencja malarska\n",
    "\n",
    "Poniższa funkcja `zamaluj` wypełnia w sposób rekurencyjny tablicę wartościami 1, w zbliżony sposób działa *Wypełnienie kubełkiem* w programach graficznych. Przy pierwszym wywołaniu `zamaluj`  podajemy nr pola do zamalowania, w to miejsce wstawiana jest wartość 1, a następnie `zamaluj` jest wywoływane rekurencyjne dla lewego i prawego sąsiada. Zwróć uwagę w jaki sposób rekurencja modyfikuje wartości w tablicy.\n",
    "\n",
    "Zmodyfikuj ten program tak, żeby funkcja `zamaluj` działała tak samo jak *Wypełnienie kubełkiem*: powinna być możliwość podania wartości, którą ma być wypełniana przestrzeń (teraz jest to zawsze wartość 1)."
   ]
  },
  {
   "cell_type": "code",
   "execution_count": 24,
   "metadata": {
    "collapsed": false
   },
   "outputs": [
    {
     "name": "stdout",
     "output_type": "stream",
     "text": [
      "[0, 0, 0, 0, 1, 0, 0, 0, 0, 0, 1, 0, 0, 0, 0, 0, 0, 0, 1, 0] 10\n",
      "[0, 0, 0, 0, 1, 0, 0, 0, 0, 1, 1, 0, 0, 0, 0, 0, 0, 0, 1, 0] 9\n",
      "[0, 0, 0, 0, 1, 0, 0, 0, 1, 1, 1, 0, 0, 0, 0, 0, 0, 0, 1, 0] 8\n",
      "[0, 0, 0, 0, 1, 0, 0, 1, 1, 1, 1, 0, 0, 0, 0, 0, 0, 0, 1, 0] 7\n",
      "[0, 0, 0, 0, 1, 0, 1, 1, 1, 1, 1, 0, 0, 0, 0, 0, 0, 0, 1, 0] 6\n",
      "[0, 0, 0, 0, 1, 1, 1, 1, 1, 1, 1, 0, 0, 0, 0, 0, 0, 0, 1, 0] 5\n",
      "[0, 0, 0, 0, 1, 1, 1, 1, 1, 1, 1, 1, 0, 0, 0, 0, 0, 0, 1, 0] 11\n",
      "[0, 0, 0, 0, 1, 1, 1, 1, 1, 1, 1, 1, 1, 0, 0, 0, 0, 0, 1, 0] 12\n",
      "[0, 0, 0, 0, 1, 1, 1, 1, 1, 1, 1, 1, 1, 1, 0, 0, 0, 0, 1, 0] 13\n",
      "[0, 0, 0, 0, 1, 1, 1, 1, 1, 1, 1, 1, 1, 1, 1, 0, 0, 0, 1, 0] 14\n",
      "[0, 0, 0, 0, 1, 1, 1, 1, 1, 1, 1, 1, 1, 1, 1, 1, 0, 0, 1, 0] 15\n",
      "[0, 0, 0, 0, 1, 1, 1, 1, 1, 1, 1, 1, 1, 1, 1, 1, 1, 0, 1, 0] 16\n",
      "[0, 0, 0, 0, 1, 1, 1, 1, 1, 1, 1, 1, 1, 1, 1, 1, 1, 1, 1, 0] 17\n"
     ]
    }
   ],
   "source": [
    "def zamaluj(plansza, nr_pola):\n",
    "    if nr_pola < 0 or nr_pola >= len(plansza):\n",
    "        # nr_pola poza plansza\n",
    "        return\n",
    "    \n",
    "    if plansza[nr_pola]==1:\n",
    "        # po pole juz sie pali\n",
    "        return\n",
    "    \n",
    "    plansza[nr_pola]=1\n",
    "    \n",
    "    print(plansza, nr_pola)\n",
    "    \n",
    "    zamaluj(plansza, nr_pola-1)\n",
    "    zamaluj(plansza, nr_pola+1)\n",
    "    \n",
    "    \n",
    "plansza = [0] * 20\n",
    "plansza[18] = 1\n",
    "zamaluj(plansza,10)"
   ]
  },
  {
   "cell_type": "markdown",
   "metadata": {},
   "source": [
    "# Potęgowanie rekurencyjne\n",
    "\n",
    "Zaimplementuj funkcję `potęga(x,n)`, która w sposób rekurencyjny podniesie x do potęgi n (i zwróci wynik). Skorzystaj następującej definicji rekurencyjnej:\n",
    "\n",
    "\n",
    "```\n",
    "              | 1: dla n = 0\n",
    "potęga(x,n) = |\n",
    "              | potęga(x,n-1)*x: dla x<>0\n",
    "```\n",
    "\n",
    "Powyższe potęgowanie nie jest optymalne. Zauważ, że np:\n",
    "```\n",
    "2^8 = 2^4 * 2^4\n",
    "```\n",
    "W taki wypadku wystarczy tylko raz policzyć `2^4` i wynik zapamiętać w zmiennej lokalnej. Z kolei:\n",
    "```\n",
    "2^9 = 2^8 * 2\n",
    "```\n",
    "\n",
    "Zaimplementuj funkcję `szybka_potega` w której wykorzystasz powyższe obserwacje."
   ]
  },
  {
   "cell_type": "markdown",
   "metadata": {},
   "source": [
    "# Praca domowa\n",
    "\n",
    "Zmodyfikuj funkcję `zamaluj` w taki sposób, żeby działa ona dla planszy dwuwymiarowej. Przy podawaniu nr pola powinno podać się krotkę zawierającą współrzędne (x,y) punktu początkowego zamalowywanego obszaru. Funkcja powinna działać tak samo jak *Wypełnianie kubełkiem* w edytorze graficznym."
   ]
  }
 ],
 "metadata": {
  "kernelspec": {
   "display_name": "Python 3",
   "language": "python",
   "name": "python3"
  },
  "language_info": {
   "codemirror_mode": {
    "name": "ipython",
    "version": 3
   },
   "file_extension": ".py",
   "mimetype": "text/x-python",
   "name": "python",
   "nbconvert_exporter": "python",
   "pygments_lexer": "ipython3",
   "version": "3.5.2"
  }
 },
 "nbformat": 4,
 "nbformat_minor": 1
}
