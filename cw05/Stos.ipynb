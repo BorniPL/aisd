{
 "cells": [
  {
   "cell_type": "markdown",
   "metadata": {},
   "source": [
    "# Stos (kolejka LIFO)\n",
    "\n",
    "Implementacja stosu przy pomocy listy. W tym celu wykorzystany został wzorzec projektowy [Adapter](https://pl.wikipedia.org/wiki/Adapter_%28wzorzec_projektowy%29). Zwróć uwagę na:\n",
    "\n",
    "- wykorzystanie listy `self.data` jako wewnętrzenej struktury danych przetrzymującej elementy na stosie, \n",
    "- metodę `__len__`, odpowidzialną za zwracanie liczby elementów na stosie\n",
    " \n",
    "\n"
   ]
  },
  {
   "cell_type": "code",
   "execution_count": 2,
   "metadata": {
    "collapsed": true
   },
   "outputs": [],
   "source": [
    "\"\"\"\n",
    "Implementacja stosu (kolejka LIFO)\n",
    "\n",
    "\n",
    "S.push(element) - dodanie do stosu\n",
    "S.pop() - zdjęcie elementu ze stosu\n",
    "S.top() - zwraca referencję do wierzchołka stosu, bez usuwania\n",
    "S.is_empty() - zwraca True jeżeli stos jest pusty / False\n",
    "len(S) - zwraca liczbę elementów na stosie\n",
    "\"\"\"\n",
    "\n",
    "class ArrayStack:\n",
    "    # Konstruktor\n",
    "    def __init__(self):\n",
    "        self.data = []\n",
    "\n",
    "\n",
    "    def push(self, element):\n",
    "        self.data.append(element)\n",
    "\n",
    "\n",
    "    def pop(self):\n",
    "        return self.data.pop()\n",
    "\n",
    "    def top(self):\n",
    "        return self.data[-1]\n",
    "\n",
    "    def is_empty(self):\n",
    "        return len(self)==0\n",
    "\n",
    "    # Zwraca rozmiar stosu\n",
    "    def __len__(self):\n",
    "        return len(self.data)"
   ]
  },
  {
   "cell_type": "markdown",
   "metadata": {},
   "source": [
    "Przykład wykorzystania poniższej klasy znajduje się poniżej:"
   ]
  },
  {
   "cell_type": "code",
   "execution_count": 4,
   "metadata": {
    "collapsed": false
   },
   "outputs": [
    {
     "name": "stdout",
     "output_type": "stream",
     "text": [
      "3\n",
      "30\n",
      "30\n",
      "20\n",
      "10\n"
     ]
    }
   ],
   "source": [
    "# Utworzenie stosu i dodanie elementów\n",
    "stack = ArrayStack()\n",
    "stack.push(10)\n",
    "stack.push(20)\n",
    "stack.push(30)\n",
    "\n",
    "\n",
    "# Rozmiar stosu\n",
    "print(len(stack))\n",
    "\n",
    "# Wypisanie elementu na wierzchołku stosu\n",
    "print(stack.top())\n",
    "\n",
    "# Zdjęcie i wypisanie wszystkich elementów ze stosu\n",
    "while not stack.is_empty():\n",
    "    print(stack.pop())"
   ]
  },
  {
   "cell_type": "markdown",
   "metadata": {},
   "source": [
    "# Nawiasy - zliczanie\n",
    "\n",
    "Napisz funkcję, która sprawdzi czy tekst zawiera poprawną liczbę nawiasów `(` i `)`. Na początek zrób to poprzez zliczanie nawiasów otwierających i zamykających. Funkcja powinna zwracać `True` gdy liczba nawiasów otwierających jest równa liczbie nawiasów zamykających, oraz `False` gdy nawiasy nie zgadzają się. Dokończ implementację funkcji i stwórz do niej testy."
   ]
  },
  {
   "cell_type": "code",
   "execution_count": 6,
   "metadata": {
    "collapsed": true
   },
   "outputs": [],
   "source": [
    "def poprawne_nawiasy(tekst):\n",
    "    for ch in tekst:\n",
    "        if ch == '(':\n",
    "            raise NotImplementedError()\n",
    "        else:\n",
    "            raise NotImplementedError()\n",
    "    return True"
   ]
  },
  {
   "cell_type": "code",
   "execution_count": 7,
   "metadata": {
    "collapsed": true
   },
   "outputs": [],
   "source": [
    "import unittest\n",
    "\n",
    "class TestyNawiasy(unittest.TestCase):\n",
    "    def test_pusty():\n",
    "        self.assertTrue(poprawne_nawiasy(''))\n",
    "        \n",
    "    def test_jeden_otwierajacy():\n",
    "        self.assertFalse(poprawne_nawiasy('('))"
   ]
  },
  {
   "cell_type": "markdown",
   "metadata": {},
   "source": [
    "Następnie rozbuduj program tak, aby sprawdzać uwzględnić nawiasy różnego rodzaju : `{}`, `()`, `[]`, `<>`. W dalszym ciągu funkcja powinna tylko zliczać nawiasy otwierające i zamykające, bez sprawdzania kolejności ich występowania w tekście. Do zliczania nawiasów wg. typu można wykorzystać słownik, gdzie kluczem jest znak reprezentujący nawias. Patrz poniższa wskazówka:"
   ]
  },
  {
   "cell_type": "code",
   "execution_count": 13,
   "metadata": {
    "collapsed": false
   },
   "outputs": [
    {
     "name": "stdout",
     "output_type": "stream",
     "text": [
      "W tekście jest nawias {\n",
      "W tekście jest nawias }\n",
      "W tekście jest nawias (\n",
      "W tekście jest nawias )\n",
      "W tekście jest nawias (\n",
      "W tekście jest nawias )\n",
      "{'(': True, '{': True, ')': True, '}': True}\n"
     ]
    }
   ],
   "source": [
    "nawiasy = {}\n",
    "for ch in '{}abc()()':\n",
    "    if ch in '(){}[]':\n",
    "        print(\"W tekście jest nawias\", ch)\n",
    "        nawiasy[ch] = True\n",
    "    \n",
    "print(nawiasy)"
   ]
  },
  {
   "cell_type": "markdown",
   "metadata": {},
   "source": [
    "# Nawiasy - poprawna kolejność\n",
    "\n",
    "Zmodyfikuj fukcję `poprawne_nawiasy` tak, żeby zamiast zliczania nawiasów uwzględniać również kolejność ich występowania. Tak więc testy `(())` i `()([])` zawierają porawne nawiasy, ale `)(` i `({)}` już nie, bo kolejność ich występowania jest niepoprawna.\n",
    "\n",
    "Do sprawdzenia poprawności zapisu nawiasowego można wykorzystać stos. Gdy funkcja napotka znak będący nawiasem otwierającym, to ten znak powinien zostać umieszczony na stosie. Gdy funkcja napotka na znak `a` będący nawiasem zamykającym to należy spradzić czy wierzchołek stosu `b` zawiera nawias otwierający (takiego samego rodzaju co napotkany nawias zamykający). Pierwsza napotkana niezdodność `a` i `b` świadczy o niepoprawnym zapisie nawiasowmy. Dodatkowo liczba nawiasów otwierających i zamykających powinna być równa, więc przy poprawnym zapisie nawiasowym na koniec działania funkcji stos będzie pusty.\n",
    "\n",
    "# Praca domowa\n",
    "\n",
    "**UWAGA**: Wszystkie poniższe zadania należy zaimplementować z użyciem stosu i pokryć je testami jednostkowymi.\n",
    "\n",
    "1) Napisz funkcję, która odwraca łańcuch znaków wykorzystując do tego celu stos. Przykładowo, dla tekstu `Lorem-ipsum` funkcja powinna zwrócić `muspi-meroL`.\n",
    "\n",
    "2) Napisz funkcję, która odwraca kolejność znaków w każdym wyrazie zdania z osobna. Przyjmij, że wyrazy są oddzielone od siebie spacją. Przykładowo, dla tekstu `foo bar baz` funkcja powinna zwrócić `oof rab zab`.\n",
    "\n",
    "3) Napisz funkcję, która wyliczy wartość wyrażenia zapisanego w [odwrotnej notacji polskiej](https://pl.wikipedia.org/wiki/Odwrotna_notacja_polska). \n",
    "```\n",
    "def onp(wyrazenie):\n",
    "   ...\n",
    "```\n",
    "`wyrażenie` jest tablicą, której elementy to liczbami lub znaki operacji. Przykładowo zapis `(2+3)*5` w notacji polskiej to `2 3 + 5 *`, co zapisane byłoby w tablicy jako `[2, 3, '+', 5, '*']`.\n",
    "\n",
    "\n",
    "\n"
   ]
  },
  {
   "cell_type": "code",
   "execution_count": null,
   "metadata": {
    "collapsed": true
   },
   "outputs": [],
   "source": []
  }
 ],
 "metadata": {
  "kernelspec": {
   "display_name": "Python 3",
   "language": "python",
   "name": "python3"
  },
  "language_info": {
   "codemirror_mode": {
    "name": "ipython",
    "version": 3
   },
   "file_extension": ".py",
   "mimetype": "text/x-python",
   "name": "python",
   "nbconvert_exporter": "python",
   "pygments_lexer": "ipython3",
   "version": "3.5.2"
  }
 },
 "nbformat": 4,
 "nbformat_minor": 1
}
